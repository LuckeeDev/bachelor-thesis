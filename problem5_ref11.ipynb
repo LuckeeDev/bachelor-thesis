{
 "cells": [
  {
   "cell_type": "code",
   "execution_count": 99,
   "metadata": {},
   "outputs": [],
   "source": [
    "# Imports\n",
    "import scipy.integrate as integrate\n",
    "import numpy as np"
   ]
  },
  {
   "cell_type": "code",
   "execution_count": 100,
   "metadata": {},
   "outputs": [],
   "source": [
    "# Constants\n",
    "r_earth = 8.33 # kpc\n",
    "rho_earth = 0.3 # GeV/cm^3\n",
    "r_s = 0.184 # kpc\n",
    "rho_s = 24.42 # GeV/cm^3"
   ]
  },
  {
   "cell_type": "markdown",
   "metadata": {},
   "source": [
    "Define NFW distribution, $r$ as a function of $s$ and $\\theta$, and $\\Delta \\Omega$."
   ]
  },
  {
   "cell_type": "code",
   "execution_count": 101,
   "metadata": {},
   "outputs": [],
   "source": [
    "def rho_NFW(r):\n",
    "\t# Returns in GeV/cm^3, but it doesn't return the correct rho calculated at r_earth\n",
    "\treturn rho_s * (r_s / r) * (1 + r / r_s) ** (-2)\n",
    "\n",
    "def r(s, theta):\n",
    "\t# Returns in kpc\n",
    "\treturn np.sqrt(r_earth**2 + s**2 - 2*r_earth*s*np.cos(theta))\n",
    "\n",
    "def deltaOmega(theta_1, theta_2):\n",
    "\t# Returns in steradians\n",
    "\treturn 2 * np.pi * (np.cos(theta_1) - np.cos(theta_2))"
   ]
  },
  {
   "cell_type": "markdown",
   "metadata": {},
   "source": [
    "Define integrand for the $J$ integral, the function $J(\\theta)$, the integrand for the $\\bar{J}$ integral and the function $\\bar{J}(\\theta_1, \\theta_2)$. They are all dimensionless."
   ]
  },
  {
   "cell_type": "code",
   "execution_count": 102,
   "metadata": {},
   "outputs": [],
   "source": [
    "def J_integrand(s, theta, rho_DM):\n",
    "\treturn (rho_DM(r(s, theta)) / rho_earth) ** 2 / r_earth\n",
    "\n",
    "def J(theta, rho_DM):\n",
    "\tintegral, _ = integrate.quad(J_integrand, 0, np.inf, args=(theta, rho_DM))\n",
    "\treturn integral\n",
    "\n",
    "def J_avg_integrand(theta, rho_DM):\n",
    "\treturn J(theta, rho_DM) * np.sin(theta)\n",
    "\n",
    "def J_avg(theta_1, theta_2, rho_DM):\n",
    "\tintegral, _ = integrate.quad(J_avg_integrand, theta_1, theta_2, args=(rho_DM,))\n",
    "\treturn integral * 2 * np.pi / deltaOmega(theta_1, theta_2)"
   ]
  },
  {
   "cell_type": "markdown",
   "metadata": {},
   "source": [
    "Use previously defined functions to calculate $\\bar{J}$ for different distributions."
   ]
  },
  {
   "cell_type": "code",
   "execution_count": null,
   "metadata": {},
   "outputs": [
    {
     "name": "stderr",
     "output_type": "stream",
     "text": [
      "C:\\Users\\lucaz\\AppData\\Local\\Temp\\ipykernel_9896\\2604824896.py:5: IntegrationWarning: The algorithm does not converge.  Roundoff error is detected\n",
      "  in the extrapolation table.  It is assumed that the requested tolerance\n",
      "  cannot be achieved, and that the returned result (if full_output = 1) is \n",
      "  the best which can be obtained.\n",
      "  integral, _ = integrate.quad(J_integrand, 0, np.inf, args=(theta, rho_DM))\n",
      "C:\\Users\\lucaz\\AppData\\Local\\Temp\\ipykernel_9896\\2604824896.py:5: IntegrationWarning: The integral is probably divergent, or slowly convergent.\n",
      "  integral, _ = integrate.quad(J_integrand, 0, np.inf, args=(theta, rho_DM))\n"
     ]
    },
    {
     "data": {
      "text/plain": [
       "np.float64(269.55049472711636)"
      ]
     },
     "execution_count": 104,
     "metadata": {},
     "output_type": "execute_result"
    }
   ],
   "source": [
    "# Integrating from 0 gives convergence issues\n",
    "J_avg_NFW = J_avg(0, np.pi / 180, rho_NFW)"
   ]
  }
 ],
 "metadata": {
  "kernelspec": {
   "display_name": ".venv",
   "language": "python",
   "name": "python3"
  },
  "language_info": {
   "codemirror_mode": {
    "name": "ipython",
    "version": 3
   },
   "file_extension": ".py",
   "mimetype": "text/x-python",
   "name": "python",
   "nbconvert_exporter": "python",
   "pygments_lexer": "ipython3",
   "version": "3.12.2"
  }
 },
 "nbformat": 4,
 "nbformat_minor": 2
}
