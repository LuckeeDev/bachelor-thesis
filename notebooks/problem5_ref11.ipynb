{
 "cells": [
  {
   "cell_type": "markdown",
   "metadata": {},
   "source": [
    "# Solution for problem 5 of reference [11]"
   ]
  },
  {
   "cell_type": "markdown",
   "metadata": {},
   "source": [
    "General setup."
   ]
  },
  {
   "cell_type": "code",
   "execution_count": 1,
   "metadata": {},
   "outputs": [],
   "source": [
    "# Imports\n",
    "import scipy.integrate as integrate\n",
    "import numpy as np"
   ]
  },
  {
   "cell_type": "markdown",
   "metadata": {},
   "source": [
    "Define the parameters like they did in [this paper](https://arxiv.org/abs/2303.12107)."
   ]
  },
  {
   "cell_type": "code",
   "execution_count": 2,
   "metadata": {},
   "outputs": [],
   "source": [
    "# Constants\n",
    "r_earth = 8.2 # kpc\n",
    "rho_earth = 0.42 # GeV/cm^3\n",
    "# I think these parameters could be improved, they don't seem to be the best fit for the Milky Way\n",
    "r_s = 18.6 # approximate value based on what I remember from the call, kpc\n",
    "rho_s = rho_earth / (r_s / r_earth) / (1 + r_earth / r_s) ** (-2) # definition to make rho_earth 0.3, GeV/cm^3\n",
    "r_0 = 0.5 # kpc"
   ]
  },
  {
   "cell_type": "markdown",
   "metadata": {},
   "source": [
    "Define NFW distributions, $r$ as a function of $s$ and $\\theta$, and $\\Delta \\Omega$."
   ]
  },
  {
   "cell_type": "code",
   "execution_count": 3,
   "metadata": {},
   "outputs": [],
   "source": [
    "def rho_NFW(r):\n",
    "\t# Returns in GeV/cm^3\n",
    "\treturn rho_s * (r_s / r) * (1 + r / r_s) ** (-2)\n",
    "\n",
    "def rho_NFW_core(r):\n",
    "\t# Returns in GeV/cm^3\n",
    "\treturn rho_s * (r_s / (r + r_0)) * (1 + r / r_s) ** (-2)\n",
    "\n",
    "def r(s, theta):\n",
    "\t# Returns in kpc\n",
    "\treturn np.sqrt(r_earth**2 + s**2 - 2*r_earth*s*np.cos(theta))\n",
    "\n",
    "def deltaOmega(theta_1, theta_2):\n",
    "\t# Returns in steradians\n",
    "\treturn 2 * np.pi * (np.cos(theta_1) - np.cos(theta_2))"
   ]
  },
  {
   "cell_type": "markdown",
   "metadata": {},
   "source": [
    "Define integrand for the $J$ integral, the function $J(\\theta)$, the integrand for the $\\bar{J}$ integral and the function $\\bar{J}(\\theta_1, \\theta_2)$. They are all dimensionless."
   ]
  },
  {
   "cell_type": "code",
   "execution_count": 4,
   "metadata": {},
   "outputs": [],
   "source": [
    "def J_integrand(s, theta, rho_DM):\n",
    "\treturn (rho_DM(r(s, theta)) / rho_earth) ** 2 / r_earth\n",
    "\n",
    "def J(theta, rho_DM):\n",
    "\tintegral, _ = integrate.quad(J_integrand, 0, np.inf, args=(theta, rho_DM))\n",
    "\treturn integral\n",
    "\n",
    "def J_avg_integrand(theta, rho_DM):\n",
    "\treturn J(theta, rho_DM) * np.sin(theta)\n",
    "\n",
    "def J_avg(theta_1, theta_2, rho_DM):\n",
    "\tintegral, _ = integrate.quad(J_avg_integrand, theta_1, theta_2, args=(rho_DM,))\n",
    "\treturn integral * 2 * np.pi / deltaOmega(theta_1, theta_2)"
   ]
  },
  {
   "cell_type": "markdown",
   "metadata": {},
   "source": [
    "## Questions 1 and 2\n",
    "\n",
    "Use previously defined functions to calculate $\\bar{J}$ for different distributions."
   ]
  },
  {
   "cell_type": "code",
   "execution_count": 5,
   "metadata": {},
   "outputs": [
    {
     "name": "stderr",
     "output_type": "stream",
     "text": [
      "C:\\Users\\lucaz\\AppData\\Local\\Temp\\ipykernel_21508\\2604824896.py:5: IntegrationWarning: The maximum number of subdivisions (50) has been achieved.\n",
      "  If increasing the limit yields no improvement it is advised to analyze \n",
      "  the integrand in order to determine the difficulties.  If the position of a \n",
      "  local difficulty can be determined (singularity, discontinuity) one will \n",
      "  probably gain from splitting up the interval and calling the integrator \n",
      "  on the subranges.  Perhaps a special-purpose integrator should be used.\n",
      "  integral, _ = integrate.quad(J_integrand, 0, np.inf, args=(theta, rho_DM))\n",
      "C:\\Users\\lucaz\\AppData\\Local\\Temp\\ipykernel_21508\\2604824896.py:5: IntegrationWarning: The algorithm does not converge.  Roundoff error is detected\n",
      "  in the extrapolation table.  It is assumed that the requested tolerance\n",
      "  cannot be achieved, and that the returned result (if full_output = 1) is \n",
      "  the best which can be obtained.\n",
      "  integral, _ = integrate.quad(J_integrand, 0, np.inf, args=(theta, rho_DM))\n"
     ]
    },
    {
     "name": "stdout",
     "output_type": "stream",
     "text": [
      "J_avg NFW:  1477.7654169594402\n",
      "J_avg NFW core:  104.64977923429672\n"
     ]
    },
    {
     "name": "stderr",
     "output_type": "stream",
     "text": [
      "C:\\Users\\lucaz\\AppData\\Local\\Temp\\ipykernel_21508\\2604824896.py:12: IntegrationWarning: The maximum number of subdivisions (50) has been achieved.\n",
      "  If increasing the limit yields no improvement it is advised to analyze \n",
      "  the integrand in order to determine the difficulties.  If the position of a \n",
      "  local difficulty can be determined (singularity, discontinuity) one will \n",
      "  probably gain from splitting up the interval and calling the integrator \n",
      "  on the subranges.  Perhaps a special-purpose integrator should be used.\n",
      "  integral, _ = integrate.quad(J_avg_integrand, theta_1, theta_2, args=(rho_DM,))\n"
     ]
    }
   ],
   "source": [
    "# Integrating from 0 gives convergence issues, it's probably because\n",
    "# of the divergence of the NFW profile. This can easily be fixed by\n",
    "# starting integration from an angle close to zero.\n",
    "J_avg_NFW = J_avg(0, np.pi / 180, rho_NFW)\n",
    "J_avg_NFW_core = J_avg(0, np.pi / 180, rho_NFW_core)\n",
    "\n",
    "print(\"J_avg NFW: \", J_avg_NFW)\n",
    "print(\"J_avg NFW core: \", J_avg_NFW_core)"
   ]
  },
  {
   "cell_type": "markdown",
   "metadata": {},
   "source": [
    "From Eq. (6.4) at page 196 of the [review by Cirelli, Strumia and Zupan](https://arxiv.org/abs/2406.01705v2), I understand that $\\langle \\sigma v \\rangle \\propto \\frac{1}{J}$. This means that a higher J-factor leads to a more stringent (smaller) upper bound on the DM annihilation cross section. Based on the numerical estimates shown above, there's a difference of roughly two orders of magnitude between the value obtained with the standard NFW distribution and the one derived from the cored NFW distribution. This translates into an upper bound for the standard NFW distribution that is one/two orders of magnitude lower than the one for the cored NFW distribution.  \n",
    "By quickly skimming through this paper, it seems like my observation makes sense: [Constraints on an Annihilation Signal from a Core of Constant Dark Matter Density around the Milky Way Center with H.E.S.S.](https://arxiv.org/abs/1502.03244)."
   ]
  },
  {
   "cell_type": "markdown",
   "metadata": {},
   "source": [
    "## Question 3\n",
    "\n",
    "This question refers to the following paper: [Search for dark matter annihilations towards the inner Galactic halo\n",
    "from 10 years of observations with H.E.S.S.](https://arxiv.org/abs/1607.08142). I first calculate the new J-factors for both distributions averaged over the annulus $[0.3°, 1.0°]$."
   ]
  },
  {
   "cell_type": "code",
   "execution_count": 6,
   "metadata": {},
   "outputs": [
    {
     "name": "stdout",
     "output_type": "stream",
     "text": [
      "J_avg NFW:  1119.3534400097778\n",
      "J_avg NFW core:  104.00592917743928\n"
     ]
    }
   ],
   "source": [
    "J_avg_NFW = J_avg(0.3 * np.pi / 180, np.pi / 180, rho_NFW)\n",
    "J_avg_NFW_core = J_avg(0.3 * np.pi / 180, np.pi / 180, rho_NFW_core)\n",
    "\n",
    "print(\"J_avg NFW: \", J_avg_NFW)\n",
    "print(\"J_avg NFW core: \", J_avg_NFW_core)"
   ]
  },
  {
   "cell_type": "markdown",
   "metadata": {},
   "source": [
    "Therefore I expect the potential error to be of roughly one order of magnitude (with the standard NFW upper bound lower than the cored NFW one)."
   ]
  },
  {
   "cell_type": "markdown",
   "metadata": {},
   "source": [
    "## Question 4\n",
    "\n",
    "Done on paper."
   ]
  }
 ],
 "metadata": {
  "kernelspec": {
   "display_name": "Python 3",
   "language": "python",
   "name": "python3"
  },
  "language_info": {
   "codemirror_mode": {
    "name": "ipython",
    "version": 3
   },
   "file_extension": ".py",
   "mimetype": "text/x-python",
   "name": "python",
   "nbconvert_exporter": "python",
   "pygments_lexer": "ipython3",
   "version": "3.12.2"
  }
 },
 "nbformat": 4,
 "nbformat_minor": 2
}
